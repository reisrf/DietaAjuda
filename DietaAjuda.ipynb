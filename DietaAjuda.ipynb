{
  "nbformat": 4,
  "nbformat_minor": 0,
  "metadata": {
    "colab": {
      "provenance": [],
      "authorship_tag": "ABX9TyOIElxHDzkhBHFcDunli6Ue",
      "include_colab_link": true
    },
    "kernelspec": {
      "name": "python3",
      "display_name": "Python 3"
    },
    "language_info": {
      "name": "python"
    }
  },
  "cells": [
    {
      "cell_type": "markdown",
      "metadata": {
        "id": "view-in-github",
        "colab_type": "text"
      },
      "source": [
        "<a href=\"https://colab.research.google.com/github/reisrf/DietaAjuda/blob/main/DietaAjuda.ipynb\" target=\"_parent\"><img src=\"https://colab.research.google.com/assets/colab-badge.svg\" alt=\"Open In Colab\"/></a>"
      ]
    },
    {
      "cell_type": "code",
      "execution_count": null,
      "metadata": {
        "id": "NP4f_8PkFBbP"
      },
      "outputs": [],
      "source": [
        "%pip install google-genai"
      ]
    },
    {
      "cell_type": "code",
      "source": [
        "import os\n",
        "from google.colab import userdata\n",
        "os.environ['GOOGLE_API_KEY']  = userdata.get('GOOGLE_API_KEY')\n",
        "from google import genai\n",
        "from IPython.display import HTML, Markdown\n",
        "client =genai.Client()\n",
        "modelo = 'gemini-2.0-flash'\n",
        "\n",
        "from google.genai import types\n",
        "\n",
        "chat_config = types.GenerateContentConfig(\n",
        "    system_instruction = \"você é um ajudante para dietas  e sempre responde de forma resumida (sucinta)\"\n",
        ")\n",
        "chat = client.chats.create(model=modelo, config=chat_config)\n",
        "\n",
        "display(Markdown(f\"DietaAjuda: Olá sou seu ajudante na sua dieta calórica. <br>Vou te ajudar a definir sua meta calórica.\"))\n",
        "display(Markdown(f\"DietaAjuda: Preciso saber seu gênero: M ou F  \"))\n",
        "genero = input (\"\").upper()\n",
        "while genero != \"M\" and genero != \"F\":\n",
        "  display(Markdown(f\"Gênero deve ser M ou F  \"))\n",
        "  genero = input (\"\").upper()\n",
        "\n",
        "display(Markdown(f\"DietaAjuda: Qual sua idade? 5 - 95 anos \"))\n",
        "idade = input (\"\")\n",
        "while not idade.isnumeric() or int(idade)<5 or int(idade)>95:\n",
        "  display(Markdown(f\"Idade deve ser um número inteiro 5 a 95\"))\n",
        "  idade = input (\"\").upper();\n",
        "\n",
        "display(Markdown(f\"DietaAjuda: Qual sua altura em centimetros? 50 a 250 cm \"))\n",
        "altura = input (\"\").upper();\n",
        "while not altura.isnumeric() or int(altura)<50 or int(altura)>250:\n",
        "  display(Markdown(f\"Altura deve ser um número inteiro 50 e 250\"))\n",
        "  altura = input (\"\").upper();\n",
        "\n",
        "display(Markdown(f\"DietaAjuda: Qual seu peso atual em quilos?  \"))\n",
        "pesoatual = input (\"\")\n",
        "while not pesoatual.isnumeric() or  int(pesoatual)<50 or int(pesoatual)>250:\n",
        "  display(Markdown(f\"Peso atual deve ser um número inteiro 50 e 250\"))\n",
        "  pesoatual = input (\"\").upper();\n",
        "\n",
        "display(Markdown(f\"DietaAjuda: Você se exercita quantas vezes por semana? <br>Informe um número de 0 (sedentário) a 7 (super ativo) \"))\n",
        "qtdeDiasExercicios = input (\"\")\n",
        "while not qtdeDiasExercicios.isnumeric() or int(qtdeDiasExercicios)<0 or int(qtdeDiasExercicios)>7:\n",
        "  display(Markdown(f\"Quantidade de dias de exercícios deve ser um número inteiro 0 e 7\"))\n",
        "  qtdeDiasExercicios = input (\"\").upper();\n",
        "\n",
        "display(Markdown(f\"DietaAjuda: Quantos quilos deseja emagrecer por mês <br>(recomendado de 1 a 2 Kg) \"))\n",
        "quilosParaPerder = input (\"\")\n",
        "while not quilosParaPerder.isnumeric() or int(quilosParaPerder)<1 or int(quilosParaPerder)>4:\n",
        "  display(Markdown(f\"Quantidade de quilos a perder por mês deve ser  1 a 4 quilos máximo\"))\n",
        "  quilosParaPerder = input (\"\").upper();\n",
        "\n",
        "if genero==\"M\":\n",
        "   genero = \"masculino\"\n",
        "if genero==\"F\":\n",
        "   genero = \"feminino\"\n",
        "\n",
        "if qtdeDiasExercicios == \"0\" :\n",
        "   exercicios = \"sendentário\"\n",
        "if qtdeDiasExercicios == \"1\" :\n",
        "   exercicios = \"uma vez por semana\"\n",
        "if qtdeDiasExercicios == \"2\" :\n",
        "   exercicios = \"duas vezes por semana\"\n",
        "if qtdeDiasExercicios == \"3\" :\n",
        "   exercicios = \"três vezes por semana\"\n",
        "if qtdeDiasExercicios == \"4\" :\n",
        "   exercicios = \"quatro vezes por semana\"\n",
        "if qtdeDiasExercicios == \"5\" :\n",
        "   exercicios = \"cinco vezes por semana\"\n",
        "if qtdeDiasExercicios == \"6\" :\n",
        "   exercicios = \"seis vezes por semana\"\n",
        "if qtdeDiasExercicios == \"7\" :\n",
        "   exercicios = \"sete vezes por semana\"\n",
        "\n",
        "\n",
        "\n",
        "\n",
        "\n",
        "resposta =  chat.send_message(\"Sou do gênero \" + genero + \", tenho \" + idade + \" anos, minha altura é \" + altura + \", peso atualmente, \" + pesoatual + \", e me exercito \" + exercicios+ \". Gostaria de saber a quantidade máxima de calorias que devo ingerir para emagrecer ao menos \" + quilosParaPerder + \"Kg por mês.\")\n",
        "display(Markdown(f\"<br><br>\"))\n",
        "\n",
        "display(Markdown(f\"DietaAjuda: {resposta.text}\"))\n",
        "\n",
        "display(Markdown(f\"<br><br>DietaAjuda: Informe os alimentos  e quantidade. <br>Exemplo: <br>1 pão francês <br>1 fatia de mussarela<br>... <br> Para sair o chat digite FIM\"))\n",
        "\n",
        "prompt = input (\"\")\n",
        "\n",
        "while prompt.upper() != \"FIM\":\n",
        "   resposta =  chat.send_message(\"Além do que já informei antes, ingeri : \" + prompt + \". Me atualize com a quantida de calorias que consumi até agora.\")\n",
        "   display(Markdown(f\"<br><br>DietaAjuda: {resposta.text}\"))\n",
        "   display(Markdown(f\"<br><br>Continue informando o que você ingeriu (comidas e bebidas):\"))\n",
        "   prompt = input (\"\")\n",
        "\n",
        "display(Markdown(f\"<br><br>Tchau, foi um prazer, continue firme na sua dieta.<br>\"))\n",
        "\n",
        "\n",
        "\n",
        "\n",
        "\n",
        "\n",
        "\n",
        "\n",
        "\n",
        "\n"
      ],
      "metadata": {
        "id": "mrC530o7Gpzf",
        "colab": {
          "base_uri": "https://localhost:8080/",
          "height": 1000
        },
        "outputId": "cef2c69e-5676-4b66-83fa-a72d3bf451a4"
      },
      "execution_count": null,
      "outputs": [
        {
          "output_type": "display_data",
          "data": {
            "text/plain": [
              "<IPython.core.display.Markdown object>"
            ],
            "text/markdown": "DietaAjuda: Olá sou seu ajudante na sua dieta calórica. <br>Vou te ajudar a definir sua meta calórica."
          },
          "metadata": {}
        },
        {
          "output_type": "display_data",
          "data": {
            "text/plain": [
              "<IPython.core.display.Markdown object>"
            ],
            "text/markdown": "DietaAjuda: Preciso saber seu gênero: M ou F  "
          },
          "metadata": {}
        },
        {
          "name": "stdout",
          "output_type": "stream",
          "text": [
            "m\n"
          ]
        },
        {
          "output_type": "display_data",
          "data": {
            "text/plain": [
              "<IPython.core.display.Markdown object>"
            ],
            "text/markdown": "DietaAjuda: Qual sua idade? 5 - 95 anos "
          },
          "metadata": {}
        },
        {
          "name": "stdout",
          "output_type": "stream",
          "text": [
            "58\n"
          ]
        },
        {
          "output_type": "display_data",
          "data": {
            "text/plain": [
              "<IPython.core.display.Markdown object>"
            ],
            "text/markdown": "DietaAjuda: Qual sua altura em centimetros? 50 a 250 cm "
          },
          "metadata": {}
        },
        {
          "name": "stdout",
          "output_type": "stream",
          "text": [
            "190\n"
          ]
        },
        {
          "output_type": "display_data",
          "data": {
            "text/plain": [
              "<IPython.core.display.Markdown object>"
            ],
            "text/markdown": "DietaAjuda: Qual seu peso atual em quilos?  "
          },
          "metadata": {}
        },
        {
          "name": "stdout",
          "output_type": "stream",
          "text": [
            "98\n"
          ]
        },
        {
          "output_type": "display_data",
          "data": {
            "text/plain": [
              "<IPython.core.display.Markdown object>"
            ],
            "text/markdown": "DietaAjuda: Você se exercita quantas vezes por semana? <br>Informe um número de 0 (sedentário) a 7 (super ativo) "
          },
          "metadata": {}
        },
        {
          "name": "stdout",
          "output_type": "stream",
          "text": [
            "4\n"
          ]
        },
        {
          "output_type": "display_data",
          "data": {
            "text/plain": [
              "<IPython.core.display.Markdown object>"
            ],
            "text/markdown": "DietaAjuda: Quantos quilos deseja emagrecer por mês <br>(recomendado de 1 a 2 Kg) "
          },
          "metadata": {}
        },
        {
          "name": "stdout",
          "output_type": "stream",
          "text": [
            "1\n"
          ]
        },
        {
          "output_type": "display_data",
          "data": {
            "text/plain": [
              "<IPython.core.display.Markdown object>"
            ],
            "text/markdown": "<br><br>"
          },
          "metadata": {}
        },
        {
          "output_type": "display_data",
          "data": {
            "text/plain": [
              "<IPython.core.display.Markdown object>"
            ],
            "text/markdown": "DietaAjuda: Para perder 1kg por mês, consuma cerca de 2200-2300 calorias diárias, combinando com seus exercícios. Ajuste conforme o progresso.\n"
          },
          "metadata": {}
        },
        {
          "output_type": "display_data",
          "data": {
            "text/plain": [
              "<IPython.core.display.Markdown object>"
            ],
            "text/markdown": "<br><br>DietaAjuda: Informe os alimentos  e quantidade. <br>Exemplo: <br>1 pão francês <br>1 fatia de mussarela<br>... <br> Para sair o chat digite FIM"
          },
          "metadata": {}
        },
        {
          "name": "stdout",
          "output_type": "stream",
          "text": [
            "2 fatias de pão de forma integral\n"
          ]
        },
        {
          "output_type": "display_data",
          "data": {
            "text/plain": [
              "<IPython.core.display.Markdown object>"
            ],
            "text/markdown": "<br><br>DietaAjuda: Duas fatias de pão de forma integral têm aproximadamente 140-160 calorias.\n"
          },
          "metadata": {}
        },
        {
          "output_type": "display_data",
          "data": {
            "text/plain": [
              "<IPython.core.display.Markdown object>"
            ],
            "text/markdown": "<br><br>Continue informando o que você ingeriu (comidas e bebidas):"
          },
          "metadata": {}
        },
        {
          "name": "stdout",
          "output_type": "stream",
          "text": [
            "1 colher de sopa de requeijão, 1 xícara de café sem açucar\n"
          ]
        },
        {
          "output_type": "display_data",
          "data": {
            "text/plain": [
              "<IPython.core.display.Markdown object>"
            ],
            "text/markdown": "<br><br>DietaAjuda: Adicione cerca de 50-60 calorias (requeijão) e praticamente zero calorias (café sem açúcar). Total até agora: 200-220 calorias.\n"
          },
          "metadata": {}
        },
        {
          "output_type": "display_data",
          "data": {
            "text/plain": [
              "<IPython.core.display.Markdown object>"
            ],
            "text/markdown": "<br><br>Continue informando o que você ingeriu (comidas e bebidas):"
          },
          "metadata": {}
        },
        {
          "name": "stdout",
          "output_type": "stream",
          "text": [
            "1 suco de 200ml de laranja\n"
          ]
        },
        {
          "output_type": "display_data",
          "data": {
            "text/plain": [
              "<IPython.core.display.Markdown object>"
            ],
            "text/markdown": "<br><br>DietaAjuda: Adicione aproximadamente 90-100 calorias (suco de laranja). Total estimado até agora: 290-320 calorias.\n"
          },
          "metadata": {}
        },
        {
          "output_type": "display_data",
          "data": {
            "text/plain": [
              "<IPython.core.display.Markdown object>"
            ],
            "text/markdown": "<br><br>Continue informando o que você ingeriu (comidas e bebidas):"
          },
          "metadata": {}
        },
        {
          "name": "stdout",
          "output_type": "stream",
          "text": [
            "FIM\n"
          ]
        },
        {
          "output_type": "display_data",
          "data": {
            "text/plain": [
              "<IPython.core.display.Markdown object>"
            ],
            "text/markdown": "<br><br>Tchau, foi um prazer, continue firme na sua dieta.<br>"
          },
          "metadata": {}
        }
      ]
    },
    {
      "cell_type": "markdown",
      "source": [],
      "metadata": {
        "id": "djQusYB0E4qq"
      }
    },
    {
      "cell_type": "markdown",
      "source": [],
      "metadata": {
        "id": "bEcXWWZPE4N5"
      }
    }
  ]
}