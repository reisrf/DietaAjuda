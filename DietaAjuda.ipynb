{
  "nbformat": 4,
  "nbformat_minor": 0,
  "metadata": {
    "colab": {
      "provenance": [],
      "authorship_tag": "ABX9TyND06E7uRzy3cMh5Xlox3sz",
      "include_colab_link": true
    },
    "kernelspec": {
      "name": "python3",
      "display_name": "Python 3"
    },
    "language_info": {
      "name": "python"
    }
  },
  "cells": [
    {
      "cell_type": "markdown",
      "metadata": {
        "id": "view-in-github",
        "colab_type": "text"
      },
      "source": [
        "<a href=\"https://colab.research.google.com/github/reisrf/DietaAjuda/blob/main/DietaAjuda.ipynb\" target=\"_parent\"><img src=\"https://colab.research.google.com/assets/colab-badge.svg\" alt=\"Open In Colab\"/></a>"
      ]
    },
    {
      "cell_type": "code",
      "execution_count": 1,
      "metadata": {
        "colab": {
          "base_uri": "https://localhost:8080/"
        },
        "id": "NP4f_8PkFBbP",
        "outputId": "ab88102b-48e8-4dba-e589-ccc866aeff2d"
      },
      "outputs": [
        {
          "output_type": "stream",
          "name": "stdout",
          "text": [
            "Requirement already satisfied: google-genai in /usr/local/lib/python3.11/dist-packages (1.14.0)\n",
            "Requirement already satisfied: anyio<5.0.0,>=4.8.0 in /usr/local/lib/python3.11/dist-packages (from google-genai) (4.9.0)\n",
            "Requirement already satisfied: google-auth<3.0.0,>=2.14.1 in /usr/local/lib/python3.11/dist-packages (from google-genai) (2.38.0)\n",
            "Requirement already satisfied: httpx<1.0.0,>=0.28.1 in /usr/local/lib/python3.11/dist-packages (from google-genai) (0.28.1)\n",
            "Requirement already satisfied: pydantic<3.0.0,>=2.0.0 in /usr/local/lib/python3.11/dist-packages (from google-genai) (2.11.4)\n",
            "Requirement already satisfied: requests<3.0.0,>=2.28.1 in /usr/local/lib/python3.11/dist-packages (from google-genai) (2.32.3)\n",
            "Requirement already satisfied: websockets<15.1.0,>=13.0.0 in /usr/local/lib/python3.11/dist-packages (from google-genai) (15.0.1)\n",
            "Requirement already satisfied: typing-extensions<5.0.0,>=4.11.0 in /usr/local/lib/python3.11/dist-packages (from google-genai) (4.13.2)\n",
            "Requirement already satisfied: idna>=2.8 in /usr/local/lib/python3.11/dist-packages (from anyio<5.0.0,>=4.8.0->google-genai) (3.10)\n",
            "Requirement already satisfied: sniffio>=1.1 in /usr/local/lib/python3.11/dist-packages (from anyio<5.0.0,>=4.8.0->google-genai) (1.3.1)\n",
            "Requirement already satisfied: cachetools<6.0,>=2.0.0 in /usr/local/lib/python3.11/dist-packages (from google-auth<3.0.0,>=2.14.1->google-genai) (5.5.2)\n",
            "Requirement already satisfied: pyasn1-modules>=0.2.1 in /usr/local/lib/python3.11/dist-packages (from google-auth<3.0.0,>=2.14.1->google-genai) (0.4.2)\n",
            "Requirement already satisfied: rsa<5,>=3.1.4 in /usr/local/lib/python3.11/dist-packages (from google-auth<3.0.0,>=2.14.1->google-genai) (4.9.1)\n",
            "Requirement already satisfied: certifi in /usr/local/lib/python3.11/dist-packages (from httpx<1.0.0,>=0.28.1->google-genai) (2025.4.26)\n",
            "Requirement already satisfied: httpcore==1.* in /usr/local/lib/python3.11/dist-packages (from httpx<1.0.0,>=0.28.1->google-genai) (1.0.9)\n",
            "Requirement already satisfied: h11>=0.16 in /usr/local/lib/python3.11/dist-packages (from httpcore==1.*->httpx<1.0.0,>=0.28.1->google-genai) (0.16.0)\n",
            "Requirement already satisfied: annotated-types>=0.6.0 in /usr/local/lib/python3.11/dist-packages (from pydantic<3.0.0,>=2.0.0->google-genai) (0.7.0)\n",
            "Requirement already satisfied: pydantic-core==2.33.2 in /usr/local/lib/python3.11/dist-packages (from pydantic<3.0.0,>=2.0.0->google-genai) (2.33.2)\n",
            "Requirement already satisfied: typing-inspection>=0.4.0 in /usr/local/lib/python3.11/dist-packages (from pydantic<3.0.0,>=2.0.0->google-genai) (0.4.0)\n",
            "Requirement already satisfied: charset-normalizer<4,>=2 in /usr/local/lib/python3.11/dist-packages (from requests<3.0.0,>=2.28.1->google-genai) (3.4.2)\n",
            "Requirement already satisfied: urllib3<3,>=1.21.1 in /usr/local/lib/python3.11/dist-packages (from requests<3.0.0,>=2.28.1->google-genai) (2.4.0)\n",
            "Requirement already satisfied: pyasn1<0.7.0,>=0.6.1 in /usr/local/lib/python3.11/dist-packages (from pyasn1-modules>=0.2.1->google-auth<3.0.0,>=2.14.1->google-genai) (0.6.1)\n"
          ]
        }
      ],
      "source": [
        "%pip install google-genai"
      ]
    },
    {
      "cell_type": "code",
      "source": [
        "import os\n",
        "from google.colab import userdata\n",
        "os.environ['GOOGLE_API_KEY']  = userdata.get('GOOGLE_API_KEY')\n",
        "from google import genai\n",
        "client =genai.Client()\n",
        "modelo = 'gemini-2.0-flash'\n",
        "\n",
        "from google.genai import types\n",
        "\n",
        "chat_config = types.GenerateContentConfig(\n",
        "    system_instruction = \"você é um ajudante para dietas  e sempre responde de forma resumida (sucinta)\"\n",
        ")\n",
        "chat = client.chats.create(model=modelo, config=chat_config)\n",
        "\n",
        "print(\"Olá sou seu ajudante na sua dieta calórica.\")\n",
        "genero = input (\"Preciso antes saber seu gênero: M ou F   \")\n",
        "idade = input (\"Qual sua idade?   \")\n",
        "altura = input (\"Qual sua altura em centimetros?   \")\n",
        "pesoatual = input (\"Qual seu peso em quilos?   \")\n",
        "qtdeDiasExercicios = input (\"Você se exercita quantas vezes por semana? \\nInforme um número de 0 (sedentário) a 7 (super ativo)   \")\n",
        "\n",
        "if genero==\"M\":\n",
        "   genero = \"masculino\"\n",
        "if genero==\"F\":\n",
        "   genero = \"feminino\"\n",
        "\n",
        "if qtdeDiasExercicios == \"0\" :\n",
        "   exercicios = \"sendentário\"\n",
        "if qtdeDiasExercicios == \"1\" :\n",
        "   exercicios = \"uma vez por semana\"\n",
        "if qtdeDiasExercicios == \"2\" :\n",
        "   exercicios = \"duas vezes por semana\"\n",
        "if qtdeDiasExercicios == \"3\" :\n",
        "   exercicios = \"três vezes por semana\"\n",
        "if qtdeDiasExercicios == \"4\" :\n",
        "   exercicios = \"quatro vezes por semana\"\n",
        "if qtdeDiasExercicios == \"5\" :\n",
        "   exercicios = \"cinco vezes por semana\"\n",
        "if qtdeDiasExercicios == \"6\" :\n",
        "   exercicios = \"seis vezes por semana\"\n",
        "if qtdeDiasExercicios == \"7\" :\n",
        "   exercicios = \"sete vezes por semana\"\n",
        "\n",
        "\n",
        "\n",
        "\n",
        "\n",
        "resposta =  chat.send_message(\"Sou do gênero \" + genero + \", tenho \" + idade + \" anos, minha altura é \" + altura + \", peso atualmente, \" + pesoatual + \", e me exercito \" + exercicios+ \". Gostaria de saber a quantidade máxima de calorias que devo ingerir para emagrecer ao menos 2kg por mês.\")\n",
        "print(\"\\n\\n\")\n",
        "\n",
        "print (resposta.text)\n",
        "print(\"\\n\\n\")\n",
        "print ( \"Vá informando o que você ingeriu recentemente\")\n",
        "prompt = input (\"liste os alimentos  e quantidade. Exemplo 1 pão francês, 1 fatia de mussarela,\\n café e 3 colheres de chá de açúcar. Para terminar o chat informe FIM \")\n",
        "\n",
        "while prompt.upper() != \"FIM\":\n",
        "   resposta =  chat.send_message(\"Além do que já informei antes, ingeri : \" + prompt + \". \\nMe atualize com a quantida de calorias que consumi até agora.\")\n",
        "   print(\"Resposta: \", resposta.text)\n",
        "   print('\\n\\n')\n",
        "   prompt = input (\"Continue informando o que você ingeriu (comidas e bebidas): \")\n",
        "\n",
        "\n",
        "\n",
        "\n",
        "\n",
        "\n",
        "\n",
        "\n",
        "\n",
        "\n"
      ],
      "metadata": {
        "colab": {
          "base_uri": "https://localhost:8080/",
          "height": 1000
        },
        "id": "mrC530o7Gpzf",
        "outputId": "9f46b83c-c87c-4b27-9e29-34bb545e7ef9"
      },
      "execution_count": 58,
      "outputs": [
        {
          "output_type": "stream",
          "name": "stdout",
          "text": [
            "Olá sou seu ajudante na sua dieta calórica.\n",
            "Preciso antes saber seu gênero: M ou F   M\n",
            "Qual sua idade?   58\n",
            "Qual sua altura em centimetros?   190\n",
            "Qual seu peso em quilos?   98\n",
            "Você se exercita quantas vezes por semana? \n",
            "Informe um número de 0 (sedentário) a 7 (super ativo)   4\n",
            "\n",
            "\n",
            "\n",
            "Para perder 2kg por mês, consuma entre 2200 e 2400 calorias diárias, combinando com seus exercícios.\n",
            "\n",
            "\n",
            "\n",
            "Vá informando o que você ingeriu recentemente\n",
            "liste os alimentos  e quantidade. Exemplo 1 pão francês, 1 fatia de mussarela,\n",
            " café e 3 colheres de chá de açúcar. Para terminar o chat informe FIM 1 pão francês com 1 colher de sobremesa de manteiga\n",
            "Resposta:  Um pão francês com manteiga tem aproximadamente 230-280 calorias.\n",
            "\n",
            "\n",
            "\n",
            "\n",
            "Continue informando o que você ingeriu (comidas e bebidas): meia cebola e 2 tomates\n",
            "Resposta:  Adicione cerca de 50-60 calorias (cebola e tomates). Total até agora: aproximadamente 280-340 calorias.\n",
            "\n",
            "\n",
            "\n",
            "\n",
            "Continue informando o que você ingeriu (comidas e bebidas): uma xicara de café com adoçante\n",
            "Resposta:  Café com adoçante tem pouquíssimas calorias, quase zero. O total permanece em 280-340 calorias.\n",
            "\n",
            "\n",
            "\n",
            "\n",
            "Continue informando o que você ingeriu (comidas e bebidas): 5 colheres de sopa de arroz branco\n",
            "Resposta:  Adicione cerca de 300 calorias pelas 5 colheres de arroz. Total: 580-640 calorias.\n",
            "\n",
            "\n",
            "\n",
            "\n",
            "Continue informando o que você ingeriu (comidas e bebidas): uma concha pequena de feijão preto\n",
            "Resposta:  Adicione aproximadamente 80 calorias do feijão. Total: 660-720 calorias.\n",
            "\n",
            "\n",
            "\n",
            "\n",
            "Continue informando o que você ingeriu (comidas e bebidas): 1 litro de água com gás\n",
            "Resposta:  Água com gás não tem calorias. O total continua em 660-720 calorias.\n",
            "\n",
            "\n",
            "\n",
            "\n",
            "Continue informando o que você ingeriu (comidas e bebidas): 1 copo pequeno de suco de tomate\n",
            "Resposta:  Adicione cerca de 40 calorias do suco de tomate. Total: 700-760 calorias.\n",
            "\n",
            "\n",
            "\n",
            "\n",
            "Continue informando o que você ingeriu (comidas e bebidas): liste tudo que consumir até o momento\n",
            "Resposta:  *   1 pão francês com 1 colher de manteiga\n",
            "*   Meia cebola e 2 tomates\n",
            "*   1 xícara de café com adoçante\n",
            "*   5 colheres de arroz branco\n",
            "*   1 concha pequena de feijão preto\n",
            "*   1 litro de água com gás\n",
            "*   1 copo pequeno de suco de tomate\n",
            "\n",
            "Total estimado: 700-760 calorias.\n",
            "\n",
            "\n",
            "\n",
            "\n"
          ]
        },
        {
          "output_type": "error",
          "ename": "KeyboardInterrupt",
          "evalue": "Interrupted by user",
          "traceback": [
            "\u001b[0;31m---------------------------------------------------------------------------\u001b[0m",
            "\u001b[0;31mKeyboardInterrupt\u001b[0m                         Traceback (most recent call last)",
            "\u001b[0;32m<ipython-input-58-fe39327b2319>\u001b[0m in \u001b[0;36m<cell line: 0>\u001b[0;34m()\u001b[0m\n\u001b[1;32m     58\u001b[0m    \u001b[0mprint\u001b[0m\u001b[0;34m(\u001b[0m\u001b[0;34m\"Resposta: \"\u001b[0m\u001b[0;34m,\u001b[0m \u001b[0mresposta\u001b[0m\u001b[0;34m.\u001b[0m\u001b[0mtext\u001b[0m\u001b[0;34m)\u001b[0m\u001b[0;34m\u001b[0m\u001b[0;34m\u001b[0m\u001b[0m\n\u001b[1;32m     59\u001b[0m    \u001b[0mprint\u001b[0m\u001b[0;34m(\u001b[0m\u001b[0;34m'\\n\\n'\u001b[0m\u001b[0;34m)\u001b[0m\u001b[0;34m\u001b[0m\u001b[0;34m\u001b[0m\u001b[0m\n\u001b[0;32m---> 60\u001b[0;31m    \u001b[0mprompt\u001b[0m \u001b[0;34m=\u001b[0m \u001b[0minput\u001b[0m \u001b[0;34m(\u001b[0m\u001b[0;34m\"Continue informando o que você ingeriu (comidas e bebidas): \"\u001b[0m\u001b[0;34m)\u001b[0m\u001b[0;34m\u001b[0m\u001b[0;34m\u001b[0m\u001b[0m\n\u001b[0m\u001b[1;32m     61\u001b[0m \u001b[0;34m\u001b[0m\u001b[0m\n\u001b[1;32m     62\u001b[0m \u001b[0;34m\u001b[0m\u001b[0m\n",
            "\u001b[0;32m/usr/local/lib/python3.11/dist-packages/ipykernel/kernelbase.py\u001b[0m in \u001b[0;36mraw_input\u001b[0;34m(self, prompt)\u001b[0m\n\u001b[1;32m   1175\u001b[0m                 \u001b[0;34m\"raw_input was called, but this frontend does not support input requests.\"\u001b[0m\u001b[0;34m\u001b[0m\u001b[0;34m\u001b[0m\u001b[0m\n\u001b[1;32m   1176\u001b[0m             )\n\u001b[0;32m-> 1177\u001b[0;31m         return self._input_request(\n\u001b[0m\u001b[1;32m   1178\u001b[0m             \u001b[0mstr\u001b[0m\u001b[0;34m(\u001b[0m\u001b[0mprompt\u001b[0m\u001b[0;34m)\u001b[0m\u001b[0;34m,\u001b[0m\u001b[0;34m\u001b[0m\u001b[0;34m\u001b[0m\u001b[0m\n\u001b[1;32m   1179\u001b[0m             \u001b[0mself\u001b[0m\u001b[0;34m.\u001b[0m\u001b[0m_parent_ident\u001b[0m\u001b[0;34m[\u001b[0m\u001b[0;34m\"shell\"\u001b[0m\u001b[0;34m]\u001b[0m\u001b[0;34m,\u001b[0m\u001b[0;34m\u001b[0m\u001b[0;34m\u001b[0m\u001b[0m\n",
            "\u001b[0;32m/usr/local/lib/python3.11/dist-packages/ipykernel/kernelbase.py\u001b[0m in \u001b[0;36m_input_request\u001b[0;34m(self, prompt, ident, parent, password)\u001b[0m\n\u001b[1;32m   1217\u001b[0m             \u001b[0;32mexcept\u001b[0m \u001b[0mKeyboardInterrupt\u001b[0m\u001b[0;34m:\u001b[0m\u001b[0;34m\u001b[0m\u001b[0;34m\u001b[0m\u001b[0m\n\u001b[1;32m   1218\u001b[0m                 \u001b[0;31m# re-raise KeyboardInterrupt, to truncate traceback\u001b[0m\u001b[0;34m\u001b[0m\u001b[0;34m\u001b[0m\u001b[0m\n\u001b[0;32m-> 1219\u001b[0;31m                 \u001b[0;32mraise\u001b[0m \u001b[0mKeyboardInterrupt\u001b[0m\u001b[0;34m(\u001b[0m\u001b[0;34m\"Interrupted by user\"\u001b[0m\u001b[0;34m)\u001b[0m \u001b[0;32mfrom\u001b[0m \u001b[0;32mNone\u001b[0m\u001b[0;34m\u001b[0m\u001b[0;34m\u001b[0m\u001b[0m\n\u001b[0m\u001b[1;32m   1220\u001b[0m             \u001b[0;32mexcept\u001b[0m \u001b[0mException\u001b[0m\u001b[0;34m:\u001b[0m\u001b[0;34m\u001b[0m\u001b[0;34m\u001b[0m\u001b[0m\n\u001b[1;32m   1221\u001b[0m                 \u001b[0mself\u001b[0m\u001b[0;34m.\u001b[0m\u001b[0mlog\u001b[0m\u001b[0;34m.\u001b[0m\u001b[0mwarning\u001b[0m\u001b[0;34m(\u001b[0m\u001b[0;34m\"Invalid Message:\"\u001b[0m\u001b[0;34m,\u001b[0m \u001b[0mexc_info\u001b[0m\u001b[0;34m=\u001b[0m\u001b[0;32mTrue\u001b[0m\u001b[0;34m)\u001b[0m\u001b[0;34m\u001b[0m\u001b[0;34m\u001b[0m\u001b[0m\n",
            "\u001b[0;31mKeyboardInterrupt\u001b[0m: Interrupted by user"
          ]
        }
      ]
    },
    {
      "cell_type": "markdown",
      "source": [],
      "metadata": {
        "id": "djQusYB0E4qq"
      }
    },
    {
      "cell_type": "markdown",
      "source": [],
      "metadata": {
        "id": "bEcXWWZPE4N5"
      }
    }
  ]
}