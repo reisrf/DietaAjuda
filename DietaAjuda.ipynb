{
  "nbformat": 4,
  "nbformat_minor": 0,
  "metadata": {
    "colab": {
      "provenance": [],
      "authorship_tag": "ABX9TyND06E7uRzy3cMh5Xlox3sz",
      "include_colab_link": true
    },
    "kernelspec": {
      "name": "python3",
      "display_name": "Python 3"
    },
    "language_info": {
      "name": "python"
    }
  },
  "cells": [
    {
      "cell_type": "markdown",
      "metadata": {
        "id": "view-in-github",
        "colab_type": "text"
      },
      "source": [
        "<a href=\"https://colab.research.google.com/github/reisrf/DietaAjuda/blob/main/DietaAjuda.ipynb\" target=\"_parent\"><img src=\"https://colab.research.google.com/assets/colab-badge.svg\" alt=\"Open In Colab\"/></a>"
      ]
    },
    {
      "cell_type": "code",
      "execution_count": null,
      "metadata": {
        "id": "NP4f_8PkFBbP"
      },
      "outputs": [],
      "source": [
        "%pip install google-genai"
      ]
    },
    {
      "cell_type": "code",
      "source": [
        "import os\n",
        "from google.colab import userdata\n",
        "os.environ['GOOGLE_API_KEY']  = userdata.get('GOOGLE_API_KEY')\n",
        "from google import genai\n",
        "client =genai.Client()\n",
        "modelo = 'gemini-2.0-flash'\n",
        "\n",
        "from google.genai import types\n",
        "\n",
        "chat_config = types.GenerateContentConfig(\n",
        "    system_instruction = \"você é um ajudante para dietas  e sempre responde de forma resumida (sucinta)\"\n",
        ")\n",
        "chat = client.chats.create(model=modelo, config=chat_config)\n",
        "\n",
        "print(\"Olá sou seu ajudante na sua dieta calórica.\")\n",
        "genero = input (\"Preciso antes saber seu gênero: M ou F   \")\n",
        "idade = input (\"Qual sua idade?   \")\n",
        "altura = input (\"Qual sua altura em centimetros?   \")\n",
        "pesoatual = input (\"Qual seu peso em quilos?   \")\n",
        "qtdeDiasExercicios = input (\"Você se exercita quantas vezes por semana? \\nInforme um número de 0 (sedentário) a 7 (super ativo)   \")\n",
        "\n",
        "if genero==\"M\":\n",
        "   genero = \"masculino\"\n",
        "if genero==\"F\":\n",
        "   genero = \"feminino\"\n",
        "\n",
        "if qtdeDiasExercicios == \"0\" :\n",
        "   exercicios = \"sendentário\"\n",
        "if qtdeDiasExercicios == \"1\" :\n",
        "   exercicios = \"uma vez por semana\"\n",
        "if qtdeDiasExercicios == \"2\" :\n",
        "   exercicios = \"duas vezes por semana\"\n",
        "if qtdeDiasExercicios == \"3\" :\n",
        "   exercicios = \"três vezes por semana\"\n",
        "if qtdeDiasExercicios == \"4\" :\n",
        "   exercicios = \"quatro vezes por semana\"\n",
        "if qtdeDiasExercicios == \"5\" :\n",
        "   exercicios = \"cinco vezes por semana\"\n",
        "if qtdeDiasExercicios == \"6\" :\n",
        "   exercicios = \"seis vezes por semana\"\n",
        "if qtdeDiasExercicios == \"7\" :\n",
        "   exercicios = \"sete vezes por semana\"\n",
        "\n",
        "\n",
        "\n",
        "\n",
        "\n",
        "resposta =  chat.send_message(\"Sou do gênero \" + genero + \", tenho \" + idade + \" anos, minha altura é \" + altura + \", peso atualmente, \" + pesoatual + \", e me exercito \" + exercicios+ \". Gostaria de saber a quantidade máxima de calorias que devo ingerir para emagrecer ao menos 2kg por mês.\")\n",
        "print(\"\\n\\n\")\n",
        "\n",
        "print (resposta.text)\n",
        "print(\"\\n\\n\")\n",
        "print ( \"Vá informando o que você ingeriu recentemente\")\n",
        "prompt = input (\"liste os alimentos  e quantidade. Exemplo 1 pão francês, 1 fatia de mussarela,\\n café e 3 colheres de chá de açúcar. Para terminar o chat informe FIM \")\n",
        "\n",
        "while prompt.upper() != \"FIM\":\n",
        "   resposta =  chat.send_message(\"Além do que já informei antes, ingeri : \" + prompt + \". \\nMe atualize com a quantida de calorias que consumi até agora.\")\n",
        "   print(\"Resposta: \", resposta.text)\n",
        "   print('\\n\\n')\n",
        "   prompt = input (\"Continue informando o que você ingeriu (comidas e bebidas): \")\n",
        "\n",
        "\n",
        "\n",
        "\n",
        "\n",
        "\n",
        "\n",
        "\n",
        "\n",
        "\n"
      ],
      "metadata": {
        "id": "mrC530o7Gpzf"
      },
      "execution_count": null,
      "outputs": []
    },
    {
      "cell_type": "markdown",
      "source": [],
      "metadata": {
        "id": "djQusYB0E4qq"
      }
    },
    {
      "cell_type": "markdown",
      "source": [],
      "metadata": {
        "id": "bEcXWWZPE4N5"
      }
    }
  ]
}